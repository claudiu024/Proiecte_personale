{
 "cells": [
  {
   "cell_type": "code",
   "execution_count": 6,
   "metadata": {},
   "outputs": [
    {
     "name": "stdout",
     "output_type": "stream",
     "text": [
      "Minumul este 1\n"
     ]
    }
   ],
   "source": [
    "# 1. Scrieţi un program care găseşte minimul funcţiei f(x) = 6x^2-12x+1 prin metoda gradientului.\n",
    "from random import randint\n",
    "x=randint(1,100)\n",
    "while(True):\n",
    "\n",
    "    c=0.01\n",
    "    x_urm=x-c*(12*x-12)\n",
    "    d=x-x_urm\n",
    "    if d<0.00001:\n",
    "        x=round(x_urm)\n",
    "        print(\"Minumul este\",x)\n",
    "        break\n",
    "    else: x=x_urm\n"
   ]
  },
  {
   "cell_type": "code",
   "execution_count": 7,
   "metadata": {},
   "outputs": [
    {
     "name": "stdout",
     "output_type": "stream",
     "text": [
      "Minumul are coordonatele [ 0.0 , 0.0 ]\n",
      "Test: 0.0 , 0.0\n"
     ]
    }
   ],
   "source": [
    "# Scrieţi un program care găseşte prin metoda gradientului minimul funcţiei\n",
    "# f(x,y) = x^2+2y^2\n",
    "\n",
    "\n",
    "from random import randint\n",
    "import math \n",
    "x=randint(1,10)\n",
    "y=randint(1,10)\n",
    "\n",
    "while(True):\n",
    "  \n",
    "    c=0.002\n",
    "    x_urm=x-(c*2*x)\n",
    "    y_urm=y-(c*4*y)\n",
    "    d_x=x-x_urm\n",
    "    d_y=y-y_urm\n",
    "    if d_x<0.00001 and d_y<0.00001:\n",
    "        x=round(x_urm,2)\n",
    "        y=round(y_urm,2)\n",
    "        print(\"Minumul are coordonatele [\",x,\",\",y,\"]\")\n",
    "        print(\"Test:\",x,\",\",math.sqrt(x))\n",
    "        break\n",
    "    else: \n",
    "            x=x_urm\n",
    "            y=y_urm\n",
    "\n",
    "\n"
   ]
  },
  {
   "cell_type": "code",
   "execution_count": 5,
   "metadata": {},
   "outputs": [
    {
     "name": "stdout",
     "output_type": "stream",
     "text": [
      "input x: 1 \n",
      "input y:  2\n",
      "Minumul are coordonatele [ 1.28 , 1.13 ]\n",
      "Test: 1.28 , 1.131370849898476\n"
     ]
    }
   ],
   "source": [
    "# Scrieţi un program care găseşte prin metoda gradientului minimul funcţiei\n",
    "# f(x,y) = (1-x)^2+100(x-y^2)^2\n",
    "from random import randint\n",
    "import math \n",
    "x=randint(1,5)\n",
    "y=randint(1,5)\n",
    "print(\"input x:\",x,\"\\ninput y:\",y)\n",
    "while(True):\n",
    "   \n",
    "    c=0.00001\n",
    "    \n",
    "    x_urm=x-c*(202*x-200*pow(y,2)-2)\n",
    "    y_urm=y-c*(400*y*(pow(y,2)-x))   #400y(y^2-x)=0 =>  400y^3-400yx=0 =>y^3=yx y^2=x \n",
    "    d_x=x-x_urm\n",
    "    d_y=y-y_urm\n",
    "    if d_x<0.00001 and d_y<0.00001:\n",
    "        x=round(x_urm,2)\n",
    "        y=round(y_urm,2)\n",
    "        print(\"Minumul are coordonatele [\",x,\",\",y,\"]\")\n",
    "        print(\"Test:\",x,\",\",math.sqrt(x))\n",
    "        break\n",
    "    else: \n",
    "            x=x_urm\n",
    "            y=y_urm"
   ]
  }
 ],
 "metadata": {
  "interpreter": {
   "hash": "c834782835254ae688229be15b61c660571c05323849b709e18e8f20603aa0e0"
  },
  "kernelspec": {
   "display_name": "Python 3.9.7 64-bit",
   "name": "python3"
  },
  "language_info": {
   "codemirror_mode": {
    "name": "ipython",
    "version": 3
   },
   "file_extension": ".py",
   "mimetype": "text/x-python",
   "name": "python",
   "nbconvert_exporter": "python",
   "pygments_lexer": "ipython3",
   "version": "3.9.7"
  },
  "orig_nbformat": 4
 },
 "nbformat": 4,
 "nbformat_minor": 2
}
