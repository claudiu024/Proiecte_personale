{
 "cells": [
  {
   "cell_type": "code",
   "execution_count": 3,
   "metadata": {},
   "outputs": [
    {
     "name": "stdout",
     "output_type": "stream",
     "text": [
      "-------------------\n",
      "\n",
      "net= 1\n",
      "f(net) 1\n",
      "w2 [-0.4  0.8  0.2]\n",
      "\n",
      "net= -1.0\n",
      "f(net) -1.0\n",
      "w3 [-0.4  0.6  0. ]\n",
      "-------------------\n",
      "\n",
      "net= -0.19999999999999996\n",
      "f(net) -1.0\n",
      "w2 [-0.4  0.6  0. ]\n",
      "\n",
      "net= -0.6000000000000001\n",
      "f(net) -1.0\n",
      "w3 [-0.4  0.4 -0.2]\n",
      "-------------------\n",
      "\n",
      "net= -0.19999999999999996\n",
      "f(net) -1.0\n",
      "w2 [-0.4  0.4 -0.2]\n",
      "\n",
      "net= -0.20000000000000007\n",
      "f(net) -1.0\n",
      "w3 [-0.4  0.2 -0.4]\n",
      "-------------------\n",
      "\n",
      "net= -0.19999999999999996\n",
      "f(net) -1.0\n",
      "w2 [-0.4  0.2 -0.4]\n",
      "\n",
      "net= 0.19999999999999996\n",
      "f(net) 1.0\n",
      "w3 [-0.4  0.2 -0.4]\n"
     ]
    }
   ],
   "source": [
    "#Regula perceptronului\n",
    "import numpy as np\n",
    "\n",
    "x=[[2,1,-1] , [0,-1,-1]] #intrarile x1 si x2\n",
    "w=[[0,1,0],[],[]] #ponderi\n",
    "d=[-1,1] #iesirile dorite d1 si d2\n",
    "c=0.1 #constanta de invatare\n",
    "net=[[]]*2\n",
    "f_net=[]\n",
    "\n",
    "def f(net):return np.sign(net)\n",
    "\n",
    "def perceptron(x,w,d):\n",
    "\n",
    "    while(True):\n",
    "        print(\"-------------------\")\n",
    "        for i in range(len(x)): \n",
    "            \n",
    "            net[i] =  np.sum(np.multiply(x[i] , w[i]))\n",
    "            f_net.append(f(net[i]))\n",
    "            print(\"\\nnet=\",net[i])\n",
    "            print(\"f(net)\",f(net[i]))   \n",
    "            if (d[i]==f(net[i])):\n",
    "                w[i+1]=w[i]\n",
    "            else:\n",
    "                w[i+1]=w[i]+np.multiply(c*2*(d[i]),x[i])\n",
    "            print(\"w\"+str(i+2),w[i+1])\n",
    "            \n",
    "            \n",
    "        if(d==f_net):\n",
    "            break\n",
    "        else: f_net.clear()\n",
    "\n",
    "        w[0]=w[len(w)-1]\n",
    "\n",
    "perceptron(x,w,d)\n",
    "\n",
    "\n"
   ]
  }
 ],
 "metadata": {
  "interpreter": {
   "hash": "5d9cd66df3bf9417eddae082adb3392135f362ea62ab75ec61c897e103dc0b02"
  },
  "kernelspec": {
   "display_name": "Python 3.9.7 64-bit",
   "language": "python",
   "name": "python3"
  },
  "language_info": {
   "codemirror_mode": {
    "name": "ipython",
    "version": 3
   },
   "file_extension": ".py",
   "mimetype": "text/x-python",
   "name": "python",
   "nbconvert_exporter": "python",
   "pygments_lexer": "ipython3",
   "version": "3.9.7"
  },
  "orig_nbformat": 4
 },
 "nbformat": 4,
 "nbformat_minor": 2
}
