{
 "cells": [
  {
   "cell_type": "code",
   "execution_count": 1,
   "metadata": {},
   "outputs": [
    {
     "name": "stdout",
     "output_type": "stream",
     "text": [
      "Pattern-uri de invatare: [[45, 85], [50, 43], [40, 80], [55, 42], [200, 43], [48, 40], [195, 41], [43, 87], [190, 40]]\n",
      "\n",
      "Prototipurile random: [array([52, 68]), array([75, 65]), array([40, 64])]\n",
      "\n",
      "Prototipuri finale: [array([43., 85.]), array([192.,  40.]), array([50., 41.])]\n",
      "\n",
      "Prototipul  [43. 85.] are asociate pattern-urile [[45, 85], [40, 80], [43, 87]]\n",
      "\n",
      "Prototipul  [192.  40.] are asociate pattern-urile [[200, 43], [195, 41], [190, 40]]\n",
      "\n",
      "Prototipul  [50. 41.] are asociate pattern-urile [[50, 43], [55, 42], [48, 40]]\n"
     ]
    }
   ],
   "source": [
    "#Enuntul problemei se afla in 'castigatorul ia tot.pdf'\n",
    "import numpy as np\n",
    "x1=[45,85]\n",
    "x2=[50,43]\n",
    "x3=[40,80]\n",
    "x4=[55,42]\n",
    "x5=[200,43]\n",
    "x6=[48,40]\n",
    "x7=[195,41]\n",
    "x8=[43,87]\n",
    "x9=[190,40]\n",
    "\n",
    "x=[x1,x2,x3,x4,x5,x6,x7,x8,x9]\n",
    "\n",
    "w1=np.random.randint(40,80,size=2)\n",
    "w2=np.random.randint(40,80,size=2)\n",
    "w3=np.random.randint(40,80,size=2)\n",
    "\n",
    "w=[w1,w2,w3]\n",
    "\n",
    "lista_dist=[] #array de distante\n",
    "c=0.6 #constanta de invatare\n",
    "ep=7 #epoci\n",
    "cluster=[[],[],[]]\n",
    "\n",
    "print(\"Pattern-uri de invatare:\",x)  \n",
    "\n",
    "print(\"\\nPrototipurile random:\",w)\n",
    "\n",
    "for e in range(ep):\n",
    "\n",
    "    for i in range(0,len(x)):\n",
    "        for j in range(0,len(w)):\n",
    "            dist=abs(x[i][0]-w[j][0])+abs(x[i][1]-w[j][1])\n",
    "            lista_dist.append(dist)\n",
    "        \n",
    "        d_min=np.min(lista_dist)\n",
    "        index=lista_dist.index(d_min)\n",
    "        lista_dist.clear()\n",
    "        \n",
    "        w[index]=np.round(w[index]+c*(np.subtract(x[i],w[index])))\n",
    "     \n",
    "        if e==ep-1:\n",
    "            cluster[index].append(x[i])\n",
    "\n",
    "print(\"\\nPrototipuri finale:\",w) \n",
    "  \n",
    "for i in range(len(w)):\n",
    "    print(\"\\nPrototipul \",w[i],\"are asociate pattern-urile\",cluster[i])\n",
    "\n"
   ]
  }
 ],
 "metadata": {
  "interpreter": {
   "hash": "5d9cd66df3bf9417eddae082adb3392135f362ea62ab75ec61c897e103dc0b02"
  },
  "kernelspec": {
   "display_name": "Python 3.9.7 64-bit",
   "language": "python",
   "name": "python3"
  },
  "language_info": {
   "codemirror_mode": {
    "name": "ipython",
    "version": 3
   },
   "file_extension": ".py",
   "mimetype": "text/x-python",
   "name": "python",
   "nbconvert_exporter": "python",
   "pygments_lexer": "ipython3",
   "version": "3.9.7"
  },
  "orig_nbformat": 4
 },
 "nbformat": 4,
 "nbformat_minor": 2
}
