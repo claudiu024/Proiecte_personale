{
 "cells": [
  {
   "cell_type": "code",
   "execution_count": 4,
   "id": "f92378e3",
   "metadata": {},
   "outputs": [
    {
     "name": "stdout",
     "output_type": "stream",
     "text": [
      "Punctul 0 cu coordonatele [-1, -1, -1] este de clasa 2\n",
      "Punctul 1 cu coordonatele [-1, -1, 1] este de clasa 2\n",
      "Punctul 2 cu coordonatele [-1, 1, -1] este de clasa 2\n",
      "Punctul 3 cu coordonatele [-1, 1, 1] este de clasa 1\n",
      "Punctul 4 cu coordonatele [1, -1, -1] este de clasa 2\n",
      "Punctul 5 cu coordonatele [1, -1, 1] este de clasa 1\n",
      "Punctul 6 cu coordonatele [1, 1, -1] este de clasa 1\n",
      "Punctul 7 cu coordonatele [1, 1, 1] este de clasa 1\n"
     ]
    }
   ],
   "source": [
    "# Enunt problema:\n",
    "# Implementaţi clasificatorul realizat cu o singură unitate, după modelul din figura 1.1 din calcul_neuronal.png\n",
    "# Folosiţi-l pentru a clasifica cele 8 puncte care reprezintă vârfurile unui cub, ca în figura 1.2\n",
    "P0=[-1,-1,-1]\n",
    "P1=[-1,-1, 1]\n",
    "P2=[-1, 1,-1]\n",
    "P3=[-1, 1, 1]\n",
    "P4=[ 1,-1,-1]\n",
    "P5=[ 1,-1, 1]\n",
    "P6=[ 1, 1,-1]\n",
    "P7=[ 1, 1, 1]\n",
    "\n",
    "\n",
    "point_array=[]\n",
    "point_array.extend([P0,P1,P2,P3,P4,P5,P6,P7])\n",
    "\n",
    "\n",
    "summ=0\n",
    "\n",
    "for i in range (len(point_array)):\n",
    "    for j in range(len(point_array[i])):\n",
    "        summ+=point_array[i][j]\n",
    "    if summ>0:\n",
    "        print(\"Punctul\",i,\"cu coordonatele\",point_array[i],\"este de clasa 1\")\n",
    "    if summ<0:\n",
    "        print(\"Punctul\",i,\"cu coordonatele\",point_array[i],\"este de clasa 2\") \n",
    "    summ=0\n",
    "        "
   ]
  },
  {
   "cell_type": "code",
   "execution_count": 15,
   "id": "1574923c",
   "metadata": {},
   "outputs": [
    {
     "name": "stdout",
     "output_type": "stream",
     "text": [
      "Punctul [-1, -1, -1] nu este stabil\n",
      "\n",
      "Punctul [-1, -1, 1] este stabil\n",
      "\n",
      "Punctul [-1, 1, -1] nu este stabil\n",
      "\n",
      "Punctul [-1, 1, 1] nu este stabil\n",
      "\n",
      "Punctul [1, -1, -1] nu este stabil\n",
      "\n",
      "Punctul [1, -1, 1] nu este stabil\n",
      "\n",
      "Punctul [1, 1, -1] este stabil\n",
      "\n",
      "Punctul [1, 1, 1] nu este stabil\n",
      "\n"
     ]
    }
   ],
   "source": [
    "# Enunt problema:\n",
    "# Scrieţi un program care implementează reţeaua de memorie din figura 1.5 din retea_memorie.png\n",
    "# Folosiţi pentru testarea reţelei aceleaşi pattern-uri ca la exemplul anterior. \n",
    "# Care sunt ieşirile stabile(valorile de iesire sunt aceleasi ca la intrare) ale reţelei? \n",
    "\n",
    "\n",
    "import numpy as np\n",
    "def verif_stabil(o1,o2,o3):\n",
    "    \n",
    "    o1_aux=o1\n",
    "    o2_aux=o2\n",
    "    o3_aux=o3\n",
    "    o1=np.sign(o2_aux-o3_aux)\n",
    "    o2=np.sign(o1_aux-o3_aux)\n",
    "    o3=np.sign(-o1_aux-o2_aux)\n",
    "       \n",
    "    if(o1==o1_aux and o2==o2_aux and o3==o3_aux): \n",
    "        return True\n",
    "    else:\n",
    "        return False\n",
    "        \n",
    "\n",
    "for p in point_array:\n",
    "\n",
    "    if(verif_stabil(p[0],p[1],p[2])):\n",
    "        print (\"Punctul\", p , \"este stabil\\n\")\n",
    "    else:\n",
    "        print (\"Punctul\", p , \"nu este stabil\\n\")\n"
   ]
  }
 ],
 "metadata": {
  "interpreter": {
   "hash": "5d9cd66df3bf9417eddae082adb3392135f362ea62ab75ec61c897e103dc0b02"
  },
  "kernelspec": {
   "display_name": "Python 3.9.7 64-bit",
   "language": "python",
   "name": "python3"
  },
  "language_info": {
   "codemirror_mode": {
    "name": "ipython",
    "version": 3
   },
   "file_extension": ".py",
   "mimetype": "text/x-python",
   "name": "python",
   "nbconvert_exporter": "python",
   "pygments_lexer": "ipython3",
   "version": "3.9.7"
  }
 },
 "nbformat": 4,
 "nbformat_minor": 5
}
