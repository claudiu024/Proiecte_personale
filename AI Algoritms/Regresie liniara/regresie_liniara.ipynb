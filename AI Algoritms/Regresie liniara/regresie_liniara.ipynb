{
 "cells": [
  {
   "cell_type": "code",
   "execution_count": 4,
   "metadata": {},
   "outputs": [
    {
     "name": "stdout",
     "output_type": "stream",
     "text": [
      "[1.1, 1.5, 2.2, 3.0, 3.2, 3.9, 4.0, 4.5, 5.1, 5.9, 6.8, 7.9, 8.7, 9.5, 10.3]\n",
      "[39.343, 37.731, 39.891, 60.15, 64.445, 63.218, 56.957, 61.111, 66.029, 81.363, 91.738, 101.302, 109.431, 116.969, 122.391]\n",
      "\n",
      "Dreapta are coordonatele [ 9.537 , 24.801 ]\n"
     ]
    }
   ],
   "source": [
    "from random import randint\n",
    "from csv import reader\n",
    "\n",
    "w1=randint(1,100)\n",
    "w2=randint(1,100)\n",
    "x=[]\n",
    "y=[]\n",
    "\n",
    "with open('Salary_Data.csv', 'r') as salary:\n",
    "  csv_reader = reader(salary)\n",
    "  for row in csv_reader:\n",
    "      if row[0]!=\"YearsExperience\":\n",
    "        x.append(float(row[0]))\n",
    "        y.append(float(row[1]))\n",
    "\n",
    "\n",
    "print(x)\n",
    "print(y)\n",
    "\n",
    "\n",
    "def eroare(w1,w2):\n",
    "    e1=0\n",
    "    e2=0\n",
    "    for i in range(len(x)):\n",
    "        e1=e1+(y[i]-(w1*x[i]+w2))*x[i]\n",
    "        e2=e2+(y[i]-(w1*x[i]+w2))\n",
    "    e1=-e1/len(x)\n",
    "    e2=-e2/len(y)\n",
    "    return e1,e2\n",
    "\n",
    "while(True):\n",
    "\n",
    "    c=0.01\n",
    "    \n",
    "    w1_urm=w1-c*eroare(w1,w2)[0]\n",
    "    w2_urm=w2-c*eroare(w1,w2)[1]\n",
    "\n",
    "    d_w2=abs(w2-w2_urm)\n",
    "\n",
    "    if d_w2<0.000001 and d_w2<0.000001:\n",
    "        w1=round(w1_urm,3)\n",
    "        w2=round(w2_urm,3)\n",
    "        print(\"\\nDreapta are coordonatele [\",w1,\",\",w2,\"]\")\n",
    "        \n",
    "        break\n",
    "    else: \n",
    "            w1=w1_urm\n",
    "            w2=w2_urm\n"
   ]
  }
 ],
 "metadata": {
  "interpreter": {
   "hash": "c834782835254ae688229be15b61c660571c05323849b709e18e8f20603aa0e0"
  },
  "kernelspec": {
   "display_name": "Python 3.9.7 64-bit",
   "language": "python",
   "name": "python3"
  },
  "language_info": {
   "codemirror_mode": {
    "name": "ipython",
    "version": 3
   },
   "file_extension": ".py",
   "mimetype": "text/x-python",
   "name": "python",
   "nbconvert_exporter": "python",
   "pygments_lexer": "ipython3",
   "version": "3.9.7"
  },
  "orig_nbformat": 4
 },
 "nbformat": 4,
 "nbformat_minor": 2
}
