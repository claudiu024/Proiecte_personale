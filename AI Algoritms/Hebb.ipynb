{
 "cells": [
  {
   "cell_type": "code",
   "execution_count": 1,
   "id": "eafd9ba0-eb0f-4400-a6f4-14e9ab977302",
   "metadata": {},
   "outputs": [
    {
     "name": "stdout",
     "output_type": "stream",
     "text": [
      "\n",
      " Ex 1:\n",
      "\n",
      " Hebb binar bipolar:\n",
      "\n",
      "\t net1 = 3.0\n",
      "\t w2 = [ 2.  -3.   1.5  0.5]\n",
      "\n",
      "\t net2 = -0.25\n",
      "\t w3 = [ 1.  -2.5  3.5  2. ]\n",
      "\n",
      "\t net3 = -3.0\n",
      "\t w4 = [ 1.  -3.5  4.5  0.5]\n",
      "\n",
      " Hebb continuu bipolar:\n",
      "\n",
      "\t f(net1) = 0.905\n",
      "\t w1 = [ 1.905 -2.81   1.358  0.5  ]\n",
      "\n",
      "\t f(net2) = -0.077\n",
      "\t w2 = [ 1.828 -2.772  1.513  0.616]\n",
      "\n",
      "\t f(net3) = -0.933\n",
      "\t w3 = [ 1.828 -3.704  2.445 -0.783]\n"
     ]
    }
   ],
   "source": [
    "import numpy as np\n",
    "import math\n",
    "# intrari ex1\n",
    "x=[[1, -2 ,1.5 , 0],   [1, -0.5, -2, -1.5],    [0, 1, -1, 1.5]]\n",
    "#ponderi ex1\n",
    "w = [[1, -1, 0, 0.5],   [], [], []]\n",
    "\n",
    "# intrari ex2\n",
    "x_2=[[1, -2], [0, 1], [2, 3], [1, -1]]\n",
    "#ponderi ex2\n",
    "w_2 =[[1, -1],  [], [], [], []]\n",
    "\n",
    "\n",
    "net=[[]]*4\n",
    "\n",
    "def hebb_binar_bipolar(x,w):\n",
    "\n",
    "    for i in range(len(x)):\n",
    "        net[i] =  np.sum(np.multiply(x[i] , w[i]))\n",
    "        w[i+1] = w[i] + np.multiply(np.sign(net[i]), x[i])\n",
    "        \n",
    "        print(\"\\n\\t net\"+ str(i+1), \"=\",net[i])\n",
    "        print(\"\\t w\"+str(i+2), \"=\" , w[i+1]) \n",
    "     \n",
    "\n",
    "def hebb_continuu_bipolar(x,w):\n",
    "   \n",
    "    for i in range(len(x)):\n",
    "        net[i] = np.sum(np.multiply(w[i], x[i]))\n",
    "        w[i+1] = w[i]+np.multiply(f(net[i]), x[i])\n",
    "    \n",
    "        print(\"\\n\\t f(net\"+str(i+1)+\")\",\"=\" ,round(f(net[i]),3))\n",
    "        print(\"\\t w\"+str(i+1) ,\"=\" ,np.around(w[i+1],3))\n",
    "\n",
    "#functia de activare hebb continuu\n",
    "def f(net):\n",
    "    f = 2/(1 + math.exp(-net))-1\n",
    "    return f\n",
    "\n",
    "\n",
    "\n",
    "\n",
    "print(\"\\n Ex 1:\") \n",
    "print(\"\\n Hebb binar bipolar:\")     \n",
    "hebb_binar_bipolar(x,w)\n",
    "print(\"\\n Hebb continuu bipolar:\")   \n",
    "hebb_continuu_bipolar(x,w)\n"
   ]
  },
  {
   "cell_type": "code",
   "execution_count": 3,
   "id": "78083df4-24c7-4ab3-be01-1874c1cfc0a0",
   "metadata": {},
   "outputs": [
    {
     "name": "stdout",
     "output_type": "stream",
     "text": [
      "Ex 2:\n",
      "Hebb binar bipolar:\n",
      "\n",
      "\t net1 = 3\n",
      "\t w2 = [ 2 -3]\n",
      "\n",
      "\t net2 = -3\n",
      "\t w3 = [ 2 -4]\n",
      "\n",
      "\t net3 = -8\n",
      "\t w4 = [ 0 -7]\n",
      "\n",
      "\t net4 = 7\n",
      "\t w5 = [ 1 -8]\n",
      "\n",
      " Hebb continuu bipolar:\n",
      "\n",
      "\t f(net1) = 0.905\n",
      "\t w1 = [ 1.905 -2.81 ]\n",
      "\n",
      "\t f(net2) = -0.886\n",
      "\t w2 = [ 1.905 -3.697]\n",
      "\n",
      "\t f(net3) = -0.999\n",
      "\t w3 = [-0.092 -6.693]\n",
      "\n",
      "\t f(net4) = 0.997\n",
      "\t w4 = [ 0.905 -7.69 ]\n"
     ]
    }
   ],
   "source": [
    "print(\"Ex 2:\")\n",
    "print(\"Hebb binar bipolar:\")   \n",
    "hebb_binar_bipolar(x_2,w_2)\n",
    "print(\"\\n Hebb continuu bipolar:\")   \n",
    "hebb_continuu_bipolar(x_2,w_2)\n"
   ]
  }
 ],
 "metadata": {
  "interpreter": {
   "hash": "5d9cd66df3bf9417eddae082adb3392135f362ea62ab75ec61c897e103dc0b02"
  },
  "kernelspec": {
   "display_name": "Python 3.9.7 64-bit",
   "language": "python",
   "name": "python3"
  },
  "language_info": {
   "codemirror_mode": {
    "name": "ipython",
    "version": 3
   },
   "file_extension": ".py",
   "mimetype": "text/x-python",
   "name": "python",
   "nbconvert_exporter": "python",
   "pygments_lexer": "ipython3",
   "version": "3.9.7"
  }
 },
 "nbformat": 4,
 "nbformat_minor": 5
}
